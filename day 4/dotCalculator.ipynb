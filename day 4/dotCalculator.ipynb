{
 "cells": [
  {
   "attachments": {},
   "cell_type": "markdown",
   "metadata": {},
   "source": [
    "# Dot Calculator"
   ]
  },
  {
   "attachments": {},
   "cell_type": "markdown",
   "metadata": {},
   "source": [
    "You have to write a calculator that receives strings for input. The dots will represent the number in the equation. There will be dots on one side, an operator, and dots again after the operator. The dots and the operator will be separated by one space.\n",
    "\n",
    "Here are the following valid operators :"
   ]
  },
  {
   "cell_type": "code",
   "execution_count": 1,
   "metadata": {},
   "outputs": [
    {
     "data": {
      "text/plain": [
       "'\\n+ Addition\\n- Subtraction\\n* Multiplication \\n/ Integer Division\\n'"
      ]
     },
     "execution_count": 1,
     "metadata": {},
     "output_type": "execute_result"
    }
   ],
   "source": [
    "'''\n",
    "+ Addition\n",
    "- Subtraction\n",
    "* Multiplication \n",
    "/ Integer Division\n",
    "'''"
   ]
  },
  {
   "attachments": {},
   "cell_type": "markdown",
   "metadata": {},
   "source": [
    "Your Work (Task)\n",
    "\n",
    "You'll have to return a string that contains dots, as many the equation returns. If the result is 0, return the empty string. When it comes to subtraction, the first number will always be greater than or equal to the second number.\n",
    "\n",
    "Examples (Input => Output)\n",
    "* \"..... + ...............\" => \"....................\"\n",
    "* \"..... - ...\"             => \"..\"\n",
    "* \"..... - .\"               => \"....\"\n",
    "* \"..... * ...\"             => \"...............\"\n",
    "* \"..... * ..\"              => \"..........\"\n",
    "* \"..... // ..\"             => \"..\"\n",
    "* \"..... // .\"              => \".....\"\n",
    "* \". // ..\"                 => \"\"\n",
    "* \".. - ..\"                 => \"\""
   ]
  },
  {
   "cell_type": "code",
   "execution_count": null,
   "metadata": {},
   "outputs": [],
   "source": []
  }
 ],
 "metadata": {
  "kernelspec": {
   "display_name": "Python 3",
   "language": "python",
   "name": "python3"
  },
  "language_info": {
   "codemirror_mode": {
    "name": "ipython",
    "version": 3
   },
   "file_extension": ".py",
   "mimetype": "text/x-python",
   "name": "python",
   "nbconvert_exporter": "python",
   "pygments_lexer": "ipython3",
   "version": "3.10.11"
  },
  "orig_nbformat": 4
 },
 "nbformat": 4,
 "nbformat_minor": 2
}
